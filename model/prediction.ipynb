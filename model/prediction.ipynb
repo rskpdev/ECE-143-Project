{
 "cells": [
  {
   "cell_type": "code",
   "execution_count": null,
   "id": "74b60e6a",
   "metadata": {},
   "outputs": [],
   "source": [
    "import pandas as pd\n",
    "from encoder import df_encode, normalize\n",
    "from split_dataset import split\n",
    "from models import *\n",
    "import warnings\n",
    "warnings.filterwarnings(\"ignore\")"
   ]
  },
  {
   "cell_type": "code",
   "execution_count": null,
   "id": "66b010cb",
   "metadata": {},
   "outputs": [],
   "source": [
    "df = pd.read_csv('heart.csv')\n",
    "df = df.drop(['FastingBS', 'RestingBP'], axis=1)\n",
    "df = df_encode(df, 'label_encoder')\n",
    "\"\"\"\n",
    "data cleaning for less correlated features\n",
    "\"\"\"\n",
    "x_train, x_test, y_train, y_test = split(df, 'HeartDisease')\n",
    "x_train, x_test = normalize(x_train, x_test)\n"
   ]
  },
  {
   "cell_type": "code",
   "execution_count": null,
   "id": "f47af7df",
   "metadata": {},
   "outputs": [],
   "source": [
    "\"\"\"\n",
    "run all models\n",
    "\"\"\"\n",
    "Run(x_train, y_train, x_test, y_test)"
   ]
  },
  {
   "cell_type": "code",
   "execution_count": null,
   "id": "9bf42f78",
   "metadata": {},
   "outputs": [],
   "source": [
    "\"\"\"\n",
    "feature importance analysis for Random Forest\n",
    "\"\"\"\n",
    "warnings.filterwarnings(\"ignore\")\n",
    "df = pd.read_csv('heart.csv')\n",
    "df = df.drop(['FastingBS', 'RestingBP'], axis=1)\n",
    "df = df_encode(df, 'label_encoder')\n",
    "columns = df.columns[:9]\n",
    "x_train, x_test, y_train, y_test = split(df, 'HeartDisease')\n",
    "x_train, x_test = normalize(x_train, x_test)\n",
    "RF_grid_model = RandomForest_Model(x_train, y_train, x_test, y_test)[1]\n",
    "importances = RF_grid_model.best_estimator_.feature_importances_\n",
    "feature_names = [f\"{i}\" for i in columns]\n",
    "forest_importances = pd.Series(importances, index=feature_names)\n",
    "dic = dict(forest_importances)\n",
    "sorted_dic = {k: v for k, v in sorted(dic.items(), key=lambda item: item[1])}\n",
    "feature_series = pd.Series(sorted_dic)\n",
    "fig, ax = plt.subplots()\n",
    "feature_series.plot.bar(ax=ax)\n",
    "ax.set_title(\"Important Features for Random Forest\")\n",
    "ax.set_ylabel(\"Mean decrease in impurity\")\n",
    "fig.tight_layout()\n",
    "plt.show()"
   ]
  },
  {
   "cell_type": "code",
   "execution_count": null,
   "id": "13168bba",
   "metadata": {},
   "outputs": [],
   "source": [
    "\"\"\"\n",
    "individually run the models and plot the confusion matrix\n",
    "\"\"\"\n",
    "df = pd.read_csv('heart.csv')\n",
    "df = df.drop(['FastingBS', 'RestingBP'], axis=1)\n",
    "df = df_encode(df, 'label_encoder')\n",
    "\"\"\"\n",
    "data cleaning for less correlated features\n",
    "\"\"\"\n",
    "x_train, x_test, y_train, y_test = split(df, 'HeartDisease')\n",
    "x_train, x_test = normalize(x_train, x_test)\n"
   ]
  },
  {
   "cell_type": "code",
   "execution_count": null,
   "id": "e1e596d5",
   "metadata": {},
   "outputs": [],
   "source": [
    "\"\"\"\n",
    "Logistic Regression\n",
    "\"\"\"\n",
    "scores = Logistic_Regression_Model(X_train, Y_train, X_test, Y_test)\n",
    "print(f\"the scores: accuracy, precision, recall score, f1 score are: {scores}\")"
   ]
  },
  {
   "cell_type": "code",
   "execution_count": null,
   "id": "dc5ea372",
   "metadata": {},
   "outputs": [],
   "source": [
    "\"\"\"\n",
    "Support Vector Machine\n",
    "\"\"\"\n",
    "scores = SVM_Model(X_train, Y_train, X_test, Y_test)\n",
    "print(f\"the scores: accuracy, precision, recall score, f1 score are: {scores}\")"
   ]
  },
  {
   "cell_type": "code",
   "execution_count": null,
   "id": "c8ea4c5b",
   "metadata": {},
   "outputs": [],
   "source": [
    "\"\"\"\n",
    "K Nearest Neighborhood\n",
    "\"\"\"\n",
    "scores = KNN_Model(X_train, Y_train, X_test, Y_test)\n",
    "print(f\"the scores: accuracy, precision, recall score, f1 score are: {scores}\")"
   ]
  },
  {
   "cell_type": "code",
   "execution_count": null,
   "id": "03f0e6f2",
   "metadata": {},
   "outputs": [],
   "source": [
    "\"\"\"\n",
    "Randome Forest\n",
    "\"\"\"\n",
    "scores = RandomForest_Model(X_train, Y_train, X_test, Y_test)[0]\n",
    "print(f\"the scores: accuracy, precision, recall score, f1 score are: {scores}\")"
   ]
  },
  {
   "cell_type": "code",
   "execution_count": null,
   "id": "8abcba50",
   "metadata": {},
   "outputs": [],
   "source": [
    "\"\"\"\n",
    "Decision Tree\n",
    "\"\"\"\n",
    "scores = DecisionTree_Model(X_train, Y_train, X_test, Y_test)\n",
    "print(f\"the scores: accuracy, precision, recall score, f1 score are: {scores}\")"
   ]
  }
 ],
 "metadata": {
  "kernelspec": {
   "display_name": "Python 3",
   "language": "python",
   "name": "python3"
  },
  "language_info": {
   "codemirror_mode": {
    "name": "ipython",
    "version": 3
   },
   "file_extension": ".py",
   "mimetype": "text/x-python",
   "name": "python",
   "nbconvert_exporter": "python",
   "pygments_lexer": "ipython3",
   "version": "3.8.8"
  }
 },
 "nbformat": 4,
 "nbformat_minor": 5
}
