{
 "cells": [
  {
   "cell_type": "code",
   "execution_count": 1,
   "id": "1216e928",
   "metadata": {},
   "outputs": [
    {
     "name": "stdout",
     "output_type": "stream",
     "text": [
      "Requirement already satisfied: seaborn in /Users/jiaweiwang/opt/anaconda3/lib/python3.8/site-packages (0.11.2)\n",
      "Requirement already satisfied: numpy>=1.15 in /Users/jiaweiwang/opt/anaconda3/lib/python3.8/site-packages (from seaborn) (1.20.3)\n",
      "Requirement already satisfied: scipy>=1.0 in /Users/jiaweiwang/opt/anaconda3/lib/python3.8/site-packages (from seaborn) (1.7.2)\n",
      "Requirement already satisfied: pandas>=0.23 in /Users/jiaweiwang/opt/anaconda3/lib/python3.8/site-packages (from seaborn) (1.3.4)\n",
      "Requirement already satisfied: matplotlib>=2.2 in /Users/jiaweiwang/opt/anaconda3/lib/python3.8/site-packages (from seaborn) (3.4.3)\n",
      "Requirement already satisfied: python-dateutil>=2.7 in /Users/jiaweiwang/opt/anaconda3/lib/python3.8/site-packages (from matplotlib>=2.2->seaborn) (2.8.2)\n",
      "Requirement already satisfied: pillow>=6.2.0 in /Users/jiaweiwang/opt/anaconda3/lib/python3.8/site-packages (from matplotlib>=2.2->seaborn) (8.3.1)\n",
      "Requirement already satisfied: kiwisolver>=1.0.1 in /Users/jiaweiwang/opt/anaconda3/lib/python3.8/site-packages (from matplotlib>=2.2->seaborn) (1.3.2)\n",
      "Requirement already satisfied: cycler>=0.10 in /Users/jiaweiwang/opt/anaconda3/lib/python3.8/site-packages (from matplotlib>=2.2->seaborn) (0.10.0)\n",
      "Requirement already satisfied: pyparsing>=2.2.1 in /Users/jiaweiwang/opt/anaconda3/lib/python3.8/site-packages (from matplotlib>=2.2->seaborn) (2.4.7)\n",
      "Requirement already satisfied: six in /Users/jiaweiwang/opt/anaconda3/lib/python3.8/site-packages (from cycler>=0.10->matplotlib>=2.2->seaborn) (1.16.0)\n",
      "Requirement already satisfied: pytz>=2017.3 in /Users/jiaweiwang/opt/anaconda3/lib/python3.8/site-packages (from pandas>=0.23->seaborn) (2021.1)\n",
      "Requirement already satisfied: vaex in /Users/jiaweiwang/opt/anaconda3/lib/python3.8/site-packages (4.5.0)\n",
      "Requirement already satisfied: vaex-hdf5<0.11,>=0.10.0 in /Users/jiaweiwang/opt/anaconda3/lib/python3.8/site-packages (from vaex) (0.10.0)\n",
      "Requirement already satisfied: vaex-server<0.7,>=0.6.1 in /Users/jiaweiwang/opt/anaconda3/lib/python3.8/site-packages (from vaex) (0.6.1)\n",
      "Requirement already satisfied: vaex-ml<0.15,>=0.14.0 in /Users/jiaweiwang/opt/anaconda3/lib/python3.8/site-packages (from vaex) (0.14.0)\n",
      "Requirement already satisfied: vaex-core<5,>=4.5.0 in /Users/jiaweiwang/opt/anaconda3/lib/python3.8/site-packages (from vaex) (4.5.1)\n",
      "Requirement already satisfied: vaex-astro<0.10,>=0.9.0 in /Users/jiaweiwang/opt/anaconda3/lib/python3.8/site-packages (from vaex) (0.9.0)\n",
      "Requirement already satisfied: vaex-jupyter<0.7,>=0.6.0 in /Users/jiaweiwang/opt/anaconda3/lib/python3.8/site-packages (from vaex) (0.6.0)\n",
      "Requirement already satisfied: vaex-viz<0.6,>=0.5.0 in /Users/jiaweiwang/opt/anaconda3/lib/python3.8/site-packages (from vaex) (0.5.0)\n",
      "Requirement already satisfied: astropy in /Users/jiaweiwang/opt/anaconda3/lib/python3.8/site-packages (from vaex-astro<0.10,>=0.9.0->vaex) (4.3.1)\n",
      "Requirement already satisfied: nest-asyncio>=1.3.3 in /Users/jiaweiwang/opt/anaconda3/lib/python3.8/site-packages (from vaex-core<5,>=4.5.0->vaex) (1.5.1)\n",
      "Requirement already satisfied: pandas in /Users/jiaweiwang/opt/anaconda3/lib/python3.8/site-packages (from vaex-core<5,>=4.5.0->vaex) (1.3.4)\n",
      "Requirement already satisfied: progressbar2 in /Users/jiaweiwang/opt/anaconda3/lib/python3.8/site-packages (from vaex-core<5,>=4.5.0->vaex) (3.55.0)\n",
      "Requirement already satisfied: filelock in /Users/jiaweiwang/opt/anaconda3/lib/python3.8/site-packages (from vaex-core<5,>=4.5.0->vaex) (3.0.12)\n",
      "Requirement already satisfied: six in /Users/jiaweiwang/opt/anaconda3/lib/python3.8/site-packages (from vaex-core<5,>=4.5.0->vaex) (1.16.0)\n",
      "Requirement already satisfied: tabulate>=0.8.3 in /Users/jiaweiwang/opt/anaconda3/lib/python3.8/site-packages (from vaex-core<5,>=4.5.0->vaex) (0.8.9)\n",
      "Requirement already satisfied: aplus in /Users/jiaweiwang/opt/anaconda3/lib/python3.8/site-packages (from vaex-core<5,>=4.5.0->vaex) (0.11.0)\n",
      "Requirement already satisfied: numpy>=1.16 in /Users/jiaweiwang/opt/anaconda3/lib/python3.8/site-packages (from vaex-core<5,>=4.5.0->vaex) (1.20.3)\n",
      "Requirement already satisfied: requests in /Users/jiaweiwang/opt/anaconda3/lib/python3.8/site-packages (from vaex-core<5,>=4.5.0->vaex) (2.25.1)\n",
      "Requirement already satisfied: pyarrow>=3.0 in /Users/jiaweiwang/opt/anaconda3/lib/python3.8/site-packages (from vaex-core<5,>=4.5.0->vaex) (6.0.0)\n",
      "Requirement already satisfied: future>=0.15.2 in /Users/jiaweiwang/opt/anaconda3/lib/python3.8/site-packages (from vaex-core<5,>=4.5.0->vaex) (0.18.2)\n",
      "Requirement already satisfied: cloudpickle in /Users/jiaweiwang/opt/anaconda3/lib/python3.8/site-packages (from vaex-core<5,>=4.5.0->vaex) (2.0.0)\n",
      "Requirement already satisfied: dask in /Users/jiaweiwang/opt/anaconda3/lib/python3.8/site-packages (from vaex-core<5,>=4.5.0->vaex) (2021.11.1)\n",
      "Requirement already satisfied: frozendict in /Users/jiaweiwang/opt/anaconda3/lib/python3.8/site-packages (from vaex-core<5,>=4.5.0->vaex) (2.0.7)\n",
      "Requirement already satisfied: pyyaml in /Users/jiaweiwang/opt/anaconda3/lib/python3.8/site-packages (from vaex-core<5,>=4.5.0->vaex) (5.4.1)\n",
      "Requirement already satisfied: blake3 in /Users/jiaweiwang/opt/anaconda3/lib/python3.8/site-packages (from vaex-core<5,>=4.5.0->vaex) (0.2.1)\n",
      "Requirement already satisfied: h5py>=2.9 in /Users/jiaweiwang/opt/anaconda3/lib/python3.8/site-packages (from vaex-hdf5<0.11,>=0.10.0->vaex) (3.5.0)\n",
      "Requirement already satisfied: xarray in /Users/jiaweiwang/opt/anaconda3/lib/python3.8/site-packages (from vaex-jupyter<0.7,>=0.6.0->vaex) (0.20.1)\n",
      "Requirement already satisfied: ipyvolume>=0.4 in /Users/jiaweiwang/opt/anaconda3/lib/python3.8/site-packages (from vaex-jupyter<0.7,>=0.6.0->vaex) (0.5.2)\n",
      "Requirement already satisfied: ipyleaflet in /Users/jiaweiwang/opt/anaconda3/lib/python3.8/site-packages (from vaex-jupyter<0.7,>=0.6.0->vaex) (0.14.0)\n",
      "Requirement already satisfied: bqplot>=0.10.1 in /Users/jiaweiwang/opt/anaconda3/lib/python3.8/site-packages (from vaex-jupyter<0.7,>=0.6.0->vaex) (0.12.31)\n",
      "Requirement already satisfied: ipyvuetify<2,>=1.2.2 in /Users/jiaweiwang/opt/anaconda3/lib/python3.8/site-packages (from vaex-jupyter<0.7,>=0.6.0->vaex) (1.8.1)\n",
      "Requirement already satisfied: ipympl in /Users/jiaweiwang/opt/anaconda3/lib/python3.8/site-packages (from vaex-jupyter<0.7,>=0.6.0->vaex) (0.8.2)\n",
      "Requirement already satisfied: ipywidgets>=7.5.0 in /Users/jiaweiwang/opt/anaconda3/lib/python3.8/site-packages (from bqplot>=0.10.1->vaex-jupyter<0.7,>=0.6.0->vaex) (7.6.3)\n",
      "Requirement already satisfied: traittypes>=0.0.6 in /Users/jiaweiwang/opt/anaconda3/lib/python3.8/site-packages (from bqplot>=0.10.1->vaex-jupyter<0.7,>=0.6.0->vaex) (0.2.1)\n",
      "Requirement already satisfied: traitlets>=4.3.0 in /Users/jiaweiwang/opt/anaconda3/lib/python3.8/site-packages (from bqplot>=0.10.1->vaex-jupyter<0.7,>=0.6.0->vaex) (5.0.5)\n",
      "Requirement already satisfied: Pillow in /Users/jiaweiwang/opt/anaconda3/lib/python3.8/site-packages (from ipyvolume>=0.4->vaex-jupyter<0.7,>=0.6.0->vaex) (8.3.1)\n",
      "Requirement already satisfied: ipywebrtc in /Users/jiaweiwang/opt/anaconda3/lib/python3.8/site-packages (from ipyvolume>=0.4->vaex-jupyter<0.7,>=0.6.0->vaex) (0.6.0)\n",
      "Requirement already satisfied: pythreejs>=1.0.0 in /Users/jiaweiwang/opt/anaconda3/lib/python3.8/site-packages (from ipyvolume>=0.4->vaex-jupyter<0.7,>=0.6.0->vaex) (2.3.0)\n",
      "Requirement already satisfied: ipyvue<2,>=1.5 in /Users/jiaweiwang/opt/anaconda3/lib/python3.8/site-packages (from ipyvuetify<2,>=1.2.2->vaex-jupyter<0.7,>=0.6.0->vaex) (1.7.0)\n",
      "Requirement already satisfied: nbformat>=4.2.0 in /Users/jiaweiwang/opt/anaconda3/lib/python3.8/site-packages (from ipywidgets>=7.5.0->bqplot>=0.10.1->vaex-jupyter<0.7,>=0.6.0->vaex) (5.1.3)\n",
      "Requirement already satisfied: widgetsnbextension~=3.5.0 in /Users/jiaweiwang/opt/anaconda3/lib/python3.8/site-packages (from ipywidgets>=7.5.0->bqplot>=0.10.1->vaex-jupyter<0.7,>=0.6.0->vaex) (3.5.1)\n",
      "Requirement already satisfied: jupyterlab-widgets>=1.0.0 in /Users/jiaweiwang/opt/anaconda3/lib/python3.8/site-packages (from ipywidgets>=7.5.0->bqplot>=0.10.1->vaex-jupyter<0.7,>=0.6.0->vaex) (1.0.0)\n",
      "Requirement already satisfied: ipython>=4.0.0 in /Users/jiaweiwang/opt/anaconda3/lib/python3.8/site-packages (from ipywidgets>=7.5.0->bqplot>=0.10.1->vaex-jupyter<0.7,>=0.6.0->vaex) (7.22.0)\n",
      "Requirement already satisfied: ipykernel>=4.5.1 in /Users/jiaweiwang/opt/anaconda3/lib/python3.8/site-packages (from ipywidgets>=7.5.0->bqplot>=0.10.1->vaex-jupyter<0.7,>=0.6.0->vaex) (5.3.4)\n"
     ]
    },
    {
     "name": "stdout",
     "output_type": "stream",
     "text": [
      "Requirement already satisfied: tornado>=4.2 in /Users/jiaweiwang/opt/anaconda3/lib/python3.8/site-packages (from ipykernel>=4.5.1->ipywidgets>=7.5.0->bqplot>=0.10.1->vaex-jupyter<0.7,>=0.6.0->vaex) (6.1)\n",
      "Requirement already satisfied: appnope in /Users/jiaweiwang/opt/anaconda3/lib/python3.8/site-packages (from ipykernel>=4.5.1->ipywidgets>=7.5.0->bqplot>=0.10.1->vaex-jupyter<0.7,>=0.6.0->vaex) (0.1.2)\n",
      "Requirement already satisfied: jupyter-client in /Users/jiaweiwang/opt/anaconda3/lib/python3.8/site-packages (from ipykernel>=4.5.1->ipywidgets>=7.5.0->bqplot>=0.10.1->vaex-jupyter<0.7,>=0.6.0->vaex) (6.1.12)\n",
      "Requirement already satisfied: pygments in /Users/jiaweiwang/opt/anaconda3/lib/python3.8/site-packages (from ipython>=4.0.0->ipywidgets>=7.5.0->bqplot>=0.10.1->vaex-jupyter<0.7,>=0.6.0->vaex) (2.9.0)\n",
      "Requirement already satisfied: setuptools>=18.5 in /Users/jiaweiwang/opt/anaconda3/lib/python3.8/site-packages (from ipython>=4.0.0->ipywidgets>=7.5.0->bqplot>=0.10.1->vaex-jupyter<0.7,>=0.6.0->vaex) (52.0.0.post20210125)\n",
      "Requirement already satisfied: backcall in /Users/jiaweiwang/opt/anaconda3/lib/python3.8/site-packages (from ipython>=4.0.0->ipywidgets>=7.5.0->bqplot>=0.10.1->vaex-jupyter<0.7,>=0.6.0->vaex) (0.2.0)\n",
      "Requirement already satisfied: pexpect>4.3 in /Users/jiaweiwang/opt/anaconda3/lib/python3.8/site-packages (from ipython>=4.0.0->ipywidgets>=7.5.0->bqplot>=0.10.1->vaex-jupyter<0.7,>=0.6.0->vaex) (4.8.0)\n",
      "Requirement already satisfied: jedi>=0.16 in /Users/jiaweiwang/opt/anaconda3/lib/python3.8/site-packages (from ipython>=4.0.0->ipywidgets>=7.5.0->bqplot>=0.10.1->vaex-jupyter<0.7,>=0.6.0->vaex) (0.17.0)\n",
      "Requirement already satisfied: pickleshare in /Users/jiaweiwang/opt/anaconda3/lib/python3.8/site-packages (from ipython>=4.0.0->ipywidgets>=7.5.0->bqplot>=0.10.1->vaex-jupyter<0.7,>=0.6.0->vaex) (0.7.5)\n",
      "Requirement already satisfied: prompt-toolkit!=3.0.0,!=3.0.1,<3.1.0,>=2.0.0 in /Users/jiaweiwang/opt/anaconda3/lib/python3.8/site-packages (from ipython>=4.0.0->ipywidgets>=7.5.0->bqplot>=0.10.1->vaex-jupyter<0.7,>=0.6.0->vaex) (3.0.20)\n",
      "Requirement already satisfied: decorator in /Users/jiaweiwang/opt/anaconda3/lib/python3.8/site-packages (from ipython>=4.0.0->ipywidgets>=7.5.0->bqplot>=0.10.1->vaex-jupyter<0.7,>=0.6.0->vaex) (5.0.9)\n",
      "Requirement already satisfied: parso>=0.7.0 in /Users/jiaweiwang/opt/anaconda3/lib/python3.8/site-packages (from jedi>=0.16->ipython>=4.0.0->ipywidgets>=7.5.0->bqplot>=0.10.1->vaex-jupyter<0.7,>=0.6.0->vaex) (0.8.2)\n",
      "Requirement already satisfied: jsonschema!=2.5.0,>=2.4 in /Users/jiaweiwang/opt/anaconda3/lib/python3.8/site-packages (from nbformat>=4.2.0->ipywidgets>=7.5.0->bqplot>=0.10.1->vaex-jupyter<0.7,>=0.6.0->vaex) (3.2.0)\n",
      "Requirement already satisfied: ipython-genutils in /Users/jiaweiwang/opt/anaconda3/lib/python3.8/site-packages (from nbformat>=4.2.0->ipywidgets>=7.5.0->bqplot>=0.10.1->vaex-jupyter<0.7,>=0.6.0->vaex) (0.2.0)\n",
      "Requirement already satisfied: jupyter-core in /Users/jiaweiwang/opt/anaconda3/lib/python3.8/site-packages (from nbformat>=4.2.0->ipywidgets>=7.5.0->bqplot>=0.10.1->vaex-jupyter<0.7,>=0.6.0->vaex) (4.7.1)\n",
      "Requirement already satisfied: attrs>=17.4.0 in /Users/jiaweiwang/opt/anaconda3/lib/python3.8/site-packages (from jsonschema!=2.5.0,>=2.4->nbformat>=4.2.0->ipywidgets>=7.5.0->bqplot>=0.10.1->vaex-jupyter<0.7,>=0.6.0->vaex) (21.2.0)\n",
      "Requirement already satisfied: pyrsistent>=0.14.0 in /Users/jiaweiwang/opt/anaconda3/lib/python3.8/site-packages (from jsonschema!=2.5.0,>=2.4->nbformat>=4.2.0->ipywidgets>=7.5.0->bqplot>=0.10.1->vaex-jupyter<0.7,>=0.6.0->vaex) (0.17.3)\n",
      "Requirement already satisfied: pytz>=2017.3 in /Users/jiaweiwang/opt/anaconda3/lib/python3.8/site-packages (from pandas->vaex-core<5,>=4.5.0->vaex) (2021.1)\n",
      "Requirement already satisfied: python-dateutil>=2.7.3 in /Users/jiaweiwang/opt/anaconda3/lib/python3.8/site-packages (from pandas->vaex-core<5,>=4.5.0->vaex) (2.8.2)\n",
      "Requirement already satisfied: ptyprocess>=0.5 in /Users/jiaweiwang/opt/anaconda3/lib/python3.8/site-packages (from pexpect>4.3->ipython>=4.0.0->ipywidgets>=7.5.0->bqplot>=0.10.1->vaex-jupyter<0.7,>=0.6.0->vaex) (0.7.0)\n",
      "Requirement already satisfied: wcwidth in /Users/jiaweiwang/opt/anaconda3/lib/python3.8/site-packages (from prompt-toolkit!=3.0.0,!=3.0.1,<3.1.0,>=2.0.0->ipython>=4.0.0->ipywidgets>=7.5.0->bqplot>=0.10.1->vaex-jupyter<0.7,>=0.6.0->vaex) (0.2.5)\n",
      "Requirement already satisfied: ipydatawidgets>=1.1.1 in /Users/jiaweiwang/opt/anaconda3/lib/python3.8/site-packages (from pythreejs>=1.0.0->ipyvolume>=0.4->vaex-jupyter<0.7,>=0.6.0->vaex) (4.2.0)\n",
      "Requirement already satisfied: jinja2 in /Users/jiaweiwang/opt/anaconda3/lib/python3.8/site-packages (from vaex-ml<0.15,>=0.14.0->vaex) (2.11.3)\n",
      "Requirement already satisfied: numba in /Users/jiaweiwang/opt/anaconda3/lib/python3.8/site-packages (from vaex-ml<0.15,>=0.14.0->vaex) (0.54.1)\n",
      "Requirement already satisfied: cachetools in /Users/jiaweiwang/opt/anaconda3/lib/python3.8/site-packages (from vaex-server<0.7,>=0.6.1->vaex) (4.2.4)\n",
      "Requirement already satisfied: fastapi in /Users/jiaweiwang/opt/anaconda3/lib/python3.8/site-packages (from vaex-server<0.7,>=0.6.1->vaex) (0.70.0)\n",
      "Requirement already satisfied: uvicorn[standard] in /Users/jiaweiwang/opt/anaconda3/lib/python3.8/site-packages (from vaex-server<0.7,>=0.6.1->vaex) (0.15.0)\n",
      "Requirement already satisfied: matplotlib>=1.3.1 in /Users/jiaweiwang/opt/anaconda3/lib/python3.8/site-packages (from vaex-viz<0.6,>=0.5.0->vaex) (3.4.3)\n",
      "Requirement already satisfied: cycler>=0.10 in /Users/jiaweiwang/opt/anaconda3/lib/python3.8/site-packages (from matplotlib>=1.3.1->vaex-viz<0.6,>=0.5.0->vaex) (0.10.0)\n",
      "Requirement already satisfied: kiwisolver>=1.0.1 in /Users/jiaweiwang/opt/anaconda3/lib/python3.8/site-packages (from matplotlib>=1.3.1->vaex-viz<0.6,>=0.5.0->vaex) (1.3.2)\n",
      "Requirement already satisfied: pyparsing>=2.2.1 in /Users/jiaweiwang/opt/anaconda3/lib/python3.8/site-packages (from matplotlib>=1.3.1->vaex-viz<0.6,>=0.5.0->vaex) (2.4.7)\n",
      "Requirement already satisfied: notebook>=4.4.1 in /Users/jiaweiwang/opt/anaconda3/lib/python3.8/site-packages (from widgetsnbextension~=3.5.0->ipywidgets>=7.5.0->bqplot>=0.10.1->vaex-jupyter<0.7,>=0.6.0->vaex) (6.4.0)\n",
      "Requirement already satisfied: Send2Trash>=1.5.0 in /Users/jiaweiwang/opt/anaconda3/lib/python3.8/site-packages (from notebook>=4.4.1->widgetsnbextension~=3.5.0->ipywidgets>=7.5.0->bqplot>=0.10.1->vaex-jupyter<0.7,>=0.6.0->vaex) (1.5.0)\n",
      "Requirement already satisfied: terminado>=0.8.3 in /Users/jiaweiwang/opt/anaconda3/lib/python3.8/site-packages (from notebook>=4.4.1->widgetsnbextension~=3.5.0->ipywidgets>=7.5.0->bqplot>=0.10.1->vaex-jupyter<0.7,>=0.6.0->vaex) (0.9.4)\n",
      "Requirement already satisfied: argon2-cffi in /Users/jiaweiwang/opt/anaconda3/lib/python3.8/site-packages (from notebook>=4.4.1->widgetsnbextension~=3.5.0->ipywidgets>=7.5.0->bqplot>=0.10.1->vaex-jupyter<0.7,>=0.6.0->vaex) (20.1.0)\n",
      "Requirement already satisfied: pyzmq>=17 in /Users/jiaweiwang/opt/anaconda3/lib/python3.8/site-packages (from notebook>=4.4.1->widgetsnbextension~=3.5.0->ipywidgets>=7.5.0->bqplot>=0.10.1->vaex-jupyter<0.7,>=0.6.0->vaex) (20.0.0)\n",
      "Requirement already satisfied: prometheus-client in /Users/jiaweiwang/opt/anaconda3/lib/python3.8/site-packages (from notebook>=4.4.1->widgetsnbextension~=3.5.0->ipywidgets>=7.5.0->bqplot>=0.10.1->vaex-jupyter<0.7,>=0.6.0->vaex) (0.11.0)\n",
      "Requirement already satisfied: nbconvert in /Users/jiaweiwang/opt/anaconda3/lib/python3.8/site-packages (from notebook>=4.4.1->widgetsnbextension~=3.5.0->ipywidgets>=7.5.0->bqplot>=0.10.1->vaex-jupyter<0.7,>=0.6.0->vaex) (6.1.0)\n",
      "Requirement already satisfied: cffi>=1.0.0 in /Users/jiaweiwang/opt/anaconda3/lib/python3.8/site-packages (from argon2-cffi->notebook>=4.4.1->widgetsnbextension~=3.5.0->ipywidgets>=7.5.0->bqplot>=0.10.1->vaex-jupyter<0.7,>=0.6.0->vaex) (1.14.6)\n",
      "Requirement already satisfied: pycparser in /Users/jiaweiwang/opt/anaconda3/lib/python3.8/site-packages (from cffi>=1.0.0->argon2-cffi->notebook>=4.4.1->widgetsnbextension~=3.5.0->ipywidgets>=7.5.0->bqplot>=0.10.1->vaex-jupyter<0.7,>=0.6.0->vaex) (2.20)\n",
      "Requirement already satisfied: pyerfa>=1.7.3 in /Users/jiaweiwang/opt/anaconda3/lib/python3.8/site-packages (from astropy->vaex-astro<0.10,>=0.9.0->vaex) (2.0.0.1)\n"
     ]
    },
    {
     "name": "stdout",
     "output_type": "stream",
     "text": [
      "Requirement already satisfied: partd>=0.3.10 in /Users/jiaweiwang/opt/anaconda3/lib/python3.8/site-packages (from dask->vaex-core<5,>=4.5.0->vaex) (1.2.0)\n",
      "Requirement already satisfied: toolz>=0.8.2 in /Users/jiaweiwang/opt/anaconda3/lib/python3.8/site-packages (from dask->vaex-core<5,>=4.5.0->vaex) (0.11.2)\n",
      "Requirement already satisfied: fsspec>=0.6.0 in /Users/jiaweiwang/opt/anaconda3/lib/python3.8/site-packages (from dask->vaex-core<5,>=4.5.0->vaex) (2021.11.0)\n",
      "Requirement already satisfied: packaging>=20.0 in /Users/jiaweiwang/opt/anaconda3/lib/python3.8/site-packages (from dask->vaex-core<5,>=4.5.0->vaex) (21.0)\n",
      "Requirement already satisfied: locket in /Users/jiaweiwang/opt/anaconda3/lib/python3.8/site-packages (from partd>=0.3.10->dask->vaex-core<5,>=4.5.0->vaex) (0.2.1)\n",
      "Requirement already satisfied: pydantic!=1.7,!=1.7.1,!=1.7.2,!=1.7.3,!=1.8,!=1.8.1,<2.0.0,>=1.6.2 in /Users/jiaweiwang/opt/anaconda3/lib/python3.8/site-packages (from fastapi->vaex-server<0.7,>=0.6.1->vaex) (1.8.2)\n",
      "Requirement already satisfied: starlette==0.16.0 in /Users/jiaweiwang/opt/anaconda3/lib/python3.8/site-packages (from fastapi->vaex-server<0.7,>=0.6.1->vaex) (0.16.0)\n",
      "Requirement already satisfied: anyio<4,>=3.0.0 in /Users/jiaweiwang/opt/anaconda3/lib/python3.8/site-packages (from starlette==0.16.0->fastapi->vaex-server<0.7,>=0.6.1->vaex) (3.3.4)\n",
      "Requirement already satisfied: sniffio>=1.1 in /Users/jiaweiwang/opt/anaconda3/lib/python3.8/site-packages (from anyio<4,>=3.0.0->starlette==0.16.0->fastapi->vaex-server<0.7,>=0.6.1->vaex) (1.2.0)\n",
      "Requirement already satisfied: idna>=2.8 in /Users/jiaweiwang/opt/anaconda3/lib/python3.8/site-packages (from anyio<4,>=3.0.0->starlette==0.16.0->fastapi->vaex-server<0.7,>=0.6.1->vaex) (2.10)\n",
      "Requirement already satisfied: typing-extensions>=3.7.4.3 in /Users/jiaweiwang/opt/anaconda3/lib/python3.8/site-packages (from pydantic!=1.7,!=1.7.1,!=1.7.2,!=1.7.3,!=1.8,!=1.8.1,<2.0.0,>=1.6.2->fastapi->vaex-server<0.7,>=0.6.1->vaex) (3.10.0.2)\n",
      "Requirement already satisfied: MarkupSafe>=0.23 in /Users/jiaweiwang/opt/anaconda3/lib/python3.8/site-packages (from jinja2->vaex-ml<0.15,>=0.14.0->vaex) (2.0.1)\n",
      "Requirement already satisfied: defusedxml in /Users/jiaweiwang/opt/anaconda3/lib/python3.8/site-packages (from nbconvert->notebook>=4.4.1->widgetsnbextension~=3.5.0->ipywidgets>=7.5.0->bqplot>=0.10.1->vaex-jupyter<0.7,>=0.6.0->vaex) (0.7.1)\n",
      "Requirement already satisfied: jupyterlab-pygments in /Users/jiaweiwang/opt/anaconda3/lib/python3.8/site-packages (from nbconvert->notebook>=4.4.1->widgetsnbextension~=3.5.0->ipywidgets>=7.5.0->bqplot>=0.10.1->vaex-jupyter<0.7,>=0.6.0->vaex) (0.1.2)\n",
      "Requirement already satisfied: bleach in /Users/jiaweiwang/opt/anaconda3/lib/python3.8/site-packages (from nbconvert->notebook>=4.4.1->widgetsnbextension~=3.5.0->ipywidgets>=7.5.0->bqplot>=0.10.1->vaex-jupyter<0.7,>=0.6.0->vaex) (3.3.1)\n",
      "Requirement already satisfied: pandocfilters>=1.4.1 in /Users/jiaweiwang/opt/anaconda3/lib/python3.8/site-packages (from nbconvert->notebook>=4.4.1->widgetsnbextension~=3.5.0->ipywidgets>=7.5.0->bqplot>=0.10.1->vaex-jupyter<0.7,>=0.6.0->vaex) (1.4.3)\n",
      "Requirement already satisfied: nbclient<0.6.0,>=0.5.0 in /Users/jiaweiwang/opt/anaconda3/lib/python3.8/site-packages (from nbconvert->notebook>=4.4.1->widgetsnbextension~=3.5.0->ipywidgets>=7.5.0->bqplot>=0.10.1->vaex-jupyter<0.7,>=0.6.0->vaex) (0.5.3)\n",
      "Requirement already satisfied: mistune<2,>=0.8.1 in /Users/jiaweiwang/opt/anaconda3/lib/python3.8/site-packages (from nbconvert->notebook>=4.4.1->widgetsnbextension~=3.5.0->ipywidgets>=7.5.0->bqplot>=0.10.1->vaex-jupyter<0.7,>=0.6.0->vaex) (0.8.4)\n",
      "Requirement already satisfied: entrypoints>=0.2.2 in /Users/jiaweiwang/opt/anaconda3/lib/python3.8/site-packages (from nbconvert->notebook>=4.4.1->widgetsnbextension~=3.5.0->ipywidgets>=7.5.0->bqplot>=0.10.1->vaex-jupyter<0.7,>=0.6.0->vaex) (0.3)\n",
      "Requirement already satisfied: testpath in /Users/jiaweiwang/opt/anaconda3/lib/python3.8/site-packages (from nbconvert->notebook>=4.4.1->widgetsnbextension~=3.5.0->ipywidgets>=7.5.0->bqplot>=0.10.1->vaex-jupyter<0.7,>=0.6.0->vaex) (0.5.0)\n",
      "Requirement already satisfied: async-generator in /Users/jiaweiwang/opt/anaconda3/lib/python3.8/site-packages (from nbclient<0.6.0,>=0.5.0->nbconvert->notebook>=4.4.1->widgetsnbextension~=3.5.0->ipywidgets>=7.5.0->bqplot>=0.10.1->vaex-jupyter<0.7,>=0.6.0->vaex) (1.10)\n",
      "Requirement already satisfied: webencodings in /Users/jiaweiwang/opt/anaconda3/lib/python3.8/site-packages (from bleach->nbconvert->notebook>=4.4.1->widgetsnbextension~=3.5.0->ipywidgets>=7.5.0->bqplot>=0.10.1->vaex-jupyter<0.7,>=0.6.0->vaex) (0.5.1)\n",
      "Requirement already satisfied: llvmlite<0.38,>=0.37.0rc1 in /Users/jiaweiwang/opt/anaconda3/lib/python3.8/site-packages (from numba->vaex-ml<0.15,>=0.14.0->vaex) (0.37.0)\n",
      "Requirement already satisfied: python-utils>=2.3.0 in /Users/jiaweiwang/opt/anaconda3/lib/python3.8/site-packages (from progressbar2->vaex-core<5,>=4.5.0->vaex) (2.5.6)\n",
      "Requirement already satisfied: certifi>=2017.4.17 in /Users/jiaweiwang/opt/anaconda3/lib/python3.8/site-packages (from requests->vaex-core<5,>=4.5.0->vaex) (2021.10.8)\n",
      "Requirement already satisfied: urllib3<1.27,>=1.21.1 in /Users/jiaweiwang/opt/anaconda3/lib/python3.8/site-packages (from requests->vaex-core<5,>=4.5.0->vaex) (1.26.6)\n",
      "Requirement already satisfied: chardet<5,>=3.0.2 in /Users/jiaweiwang/opt/anaconda3/lib/python3.8/site-packages (from requests->vaex-core<5,>=4.5.0->vaex) (4.0.0)\n",
      "Requirement already satisfied: asgiref>=3.4.0 in /Users/jiaweiwang/opt/anaconda3/lib/python3.8/site-packages (from uvicorn[standard]->vaex-server<0.7,>=0.6.1->vaex) (3.4.1)\n",
      "Requirement already satisfied: h11>=0.8 in /Users/jiaweiwang/opt/anaconda3/lib/python3.8/site-packages (from uvicorn[standard]->vaex-server<0.7,>=0.6.1->vaex) (0.12.0)\n",
      "Requirement already satisfied: click>=7.0 in /Users/jiaweiwang/opt/anaconda3/lib/python3.8/site-packages (from uvicorn[standard]->vaex-server<0.7,>=0.6.1->vaex) (8.0.1)\n",
      "Requirement already satisfied: python-dotenv>=0.13 in /Users/jiaweiwang/opt/anaconda3/lib/python3.8/site-packages (from uvicorn[standard]->vaex-server<0.7,>=0.6.1->vaex) (0.19.1)\n",
      "Requirement already satisfied: websockets>=9.1 in /Users/jiaweiwang/opt/anaconda3/lib/python3.8/site-packages (from uvicorn[standard]->vaex-server<0.7,>=0.6.1->vaex) (10.0)\n",
      "Requirement already satisfied: uvloop!=0.15.0,!=0.15.1,>=0.14.0 in /Users/jiaweiwang/opt/anaconda3/lib/python3.8/site-packages (from uvicorn[standard]->vaex-server<0.7,>=0.6.1->vaex) (0.16.0)\n",
      "Requirement already satisfied: httptools==0.2.* in /Users/jiaweiwang/opt/anaconda3/lib/python3.8/site-packages (from uvicorn[standard]->vaex-server<0.7,>=0.6.1->vaex) (0.2.0)\n",
      "Requirement already satisfied: watchgod>=0.6 in /Users/jiaweiwang/opt/anaconda3/lib/python3.8/site-packages (from uvicorn[standard]->vaex-server<0.7,>=0.6.1->vaex) (0.7)\n"
     ]
    }
   ],
   "source": [
    "!pip install seaborn\n",
    "!pip install vaex\n",
    "import pandas as pd\n",
    "import vaex\n",
    "import numpy as np\n",
    "import warnings\n",
    "import numpy as np # linear algebra\n",
    "import pandas as pd # data processing, CSV file I/O (e.g. pd.read_csv)\n",
    "import matplotlib.pyplot as plt\n",
    "import seaborn as sns\n",
    "import sklearn\n",
    "%matplotlib inline\n"
   ]
  },
  {
   "cell_type": "code",
   "execution_count": 2,
   "id": "3eb8ae36",
   "metadata": {},
   "outputs": [
    {
     "data": {
      "text/html": [
       "<div>\n",
       "<style scoped>\n",
       "    .dataframe tbody tr th:only-of-type {\n",
       "        vertical-align: middle;\n",
       "    }\n",
       "\n",
       "    .dataframe tbody tr th {\n",
       "        vertical-align: top;\n",
       "    }\n",
       "\n",
       "    .dataframe thead th {\n",
       "        text-align: right;\n",
       "    }\n",
       "</style>\n",
       "<table border=\"1\" class=\"dataframe\">\n",
       "  <thead>\n",
       "    <tr style=\"text-align: right;\">\n",
       "      <th></th>\n",
       "      <th>Age</th>\n",
       "      <th>Sex</th>\n",
       "      <th>ChestPainType</th>\n",
       "      <th>RestingBP</th>\n",
       "      <th>Cholesterol</th>\n",
       "      <th>FastingBS</th>\n",
       "      <th>RestingECG</th>\n",
       "      <th>MaxHR</th>\n",
       "      <th>ExerciseAngina</th>\n",
       "      <th>Oldpeak</th>\n",
       "      <th>ST_Slope</th>\n",
       "      <th>HeartDisease</th>\n",
       "    </tr>\n",
       "  </thead>\n",
       "  <tbody>\n",
       "    <tr>\n",
       "      <th>0</th>\n",
       "      <td>40</td>\n",
       "      <td>M</td>\n",
       "      <td>ATA</td>\n",
       "      <td>140</td>\n",
       "      <td>289</td>\n",
       "      <td>0</td>\n",
       "      <td>Normal</td>\n",
       "      <td>172</td>\n",
       "      <td>N</td>\n",
       "      <td>0.0</td>\n",
       "      <td>Up</td>\n",
       "      <td>0</td>\n",
       "    </tr>\n",
       "    <tr>\n",
       "      <th>1</th>\n",
       "      <td>49</td>\n",
       "      <td>F</td>\n",
       "      <td>NAP</td>\n",
       "      <td>160</td>\n",
       "      <td>180</td>\n",
       "      <td>0</td>\n",
       "      <td>Normal</td>\n",
       "      <td>156</td>\n",
       "      <td>N</td>\n",
       "      <td>1.0</td>\n",
       "      <td>Flat</td>\n",
       "      <td>1</td>\n",
       "    </tr>\n",
       "    <tr>\n",
       "      <th>2</th>\n",
       "      <td>37</td>\n",
       "      <td>M</td>\n",
       "      <td>ATA</td>\n",
       "      <td>130</td>\n",
       "      <td>283</td>\n",
       "      <td>0</td>\n",
       "      <td>ST</td>\n",
       "      <td>98</td>\n",
       "      <td>N</td>\n",
       "      <td>0.0</td>\n",
       "      <td>Up</td>\n",
       "      <td>0</td>\n",
       "    </tr>\n",
       "    <tr>\n",
       "      <th>3</th>\n",
       "      <td>48</td>\n",
       "      <td>F</td>\n",
       "      <td>ASY</td>\n",
       "      <td>138</td>\n",
       "      <td>214</td>\n",
       "      <td>0</td>\n",
       "      <td>Normal</td>\n",
       "      <td>108</td>\n",
       "      <td>Y</td>\n",
       "      <td>1.5</td>\n",
       "      <td>Flat</td>\n",
       "      <td>1</td>\n",
       "    </tr>\n",
       "    <tr>\n",
       "      <th>4</th>\n",
       "      <td>54</td>\n",
       "      <td>M</td>\n",
       "      <td>NAP</td>\n",
       "      <td>150</td>\n",
       "      <td>195</td>\n",
       "      <td>0</td>\n",
       "      <td>Normal</td>\n",
       "      <td>122</td>\n",
       "      <td>N</td>\n",
       "      <td>0.0</td>\n",
       "      <td>Up</td>\n",
       "      <td>0</td>\n",
       "    </tr>\n",
       "  </tbody>\n",
       "</table>\n",
       "</div>"
      ],
      "text/plain": [
       "   Age Sex ChestPainType  RestingBP  Cholesterol  FastingBS RestingECG  MaxHR  \\\n",
       "0   40   M           ATA        140          289          0     Normal    172   \n",
       "1   49   F           NAP        160          180          0     Normal    156   \n",
       "2   37   M           ATA        130          283          0         ST     98   \n",
       "3   48   F           ASY        138          214          0     Normal    108   \n",
       "4   54   M           NAP        150          195          0     Normal    122   \n",
       "\n",
       "  ExerciseAngina  Oldpeak ST_Slope  HeartDisease  \n",
       "0              N      0.0       Up             0  \n",
       "1              N      1.0     Flat             1  \n",
       "2              N      0.0       Up             0  \n",
       "3              Y      1.5     Flat             1  \n",
       "4              N      0.0       Up             0  "
      ]
     },
     "execution_count": 2,
     "metadata": {},
     "output_type": "execute_result"
    }
   ],
   "source": [
    "dataset = pd.read_csv('heart.csv')\n",
    "dataset.head()"
   ]
  },
  {
   "cell_type": "code",
   "execution_count": 3,
   "id": "704e30dc",
   "metadata": {},
   "outputs": [
    {
     "data": {
      "text/html": [
       "<div>\n",
       "<style scoped>\n",
       "    .dataframe tbody tr th:only-of-type {\n",
       "        vertical-align: middle;\n",
       "    }\n",
       "\n",
       "    .dataframe tbody tr th {\n",
       "        vertical-align: top;\n",
       "    }\n",
       "\n",
       "    .dataframe thead th {\n",
       "        text-align: right;\n",
       "    }\n",
       "</style>\n",
       "<table border=\"1\" class=\"dataframe\">\n",
       "  <thead>\n",
       "    <tr style=\"text-align: right;\">\n",
       "      <th></th>\n",
       "      <th>Age</th>\n",
       "      <th>RestingBP</th>\n",
       "      <th>Cholesterol</th>\n",
       "      <th>FastingBS</th>\n",
       "      <th>MaxHR</th>\n",
       "      <th>Oldpeak</th>\n",
       "      <th>HeartDisease</th>\n",
       "    </tr>\n",
       "  </thead>\n",
       "  <tbody>\n",
       "    <tr>\n",
       "      <th>count</th>\n",
       "      <td>918.000000</td>\n",
       "      <td>918.000000</td>\n",
       "      <td>918.000000</td>\n",
       "      <td>918.000000</td>\n",
       "      <td>918.000000</td>\n",
       "      <td>918.000000</td>\n",
       "      <td>918.000000</td>\n",
       "    </tr>\n",
       "    <tr>\n",
       "      <th>mean</th>\n",
       "      <td>53.510893</td>\n",
       "      <td>132.396514</td>\n",
       "      <td>198.799564</td>\n",
       "      <td>0.233115</td>\n",
       "      <td>136.809368</td>\n",
       "      <td>0.887364</td>\n",
       "      <td>0.553377</td>\n",
       "    </tr>\n",
       "    <tr>\n",
       "      <th>std</th>\n",
       "      <td>9.432617</td>\n",
       "      <td>18.514154</td>\n",
       "      <td>109.384145</td>\n",
       "      <td>0.423046</td>\n",
       "      <td>25.460334</td>\n",
       "      <td>1.066570</td>\n",
       "      <td>0.497414</td>\n",
       "    </tr>\n",
       "    <tr>\n",
       "      <th>min</th>\n",
       "      <td>28.000000</td>\n",
       "      <td>0.000000</td>\n",
       "      <td>0.000000</td>\n",
       "      <td>0.000000</td>\n",
       "      <td>60.000000</td>\n",
       "      <td>-2.600000</td>\n",
       "      <td>0.000000</td>\n",
       "    </tr>\n",
       "    <tr>\n",
       "      <th>25%</th>\n",
       "      <td>47.000000</td>\n",
       "      <td>120.000000</td>\n",
       "      <td>173.250000</td>\n",
       "      <td>0.000000</td>\n",
       "      <td>120.000000</td>\n",
       "      <td>0.000000</td>\n",
       "      <td>0.000000</td>\n",
       "    </tr>\n",
       "    <tr>\n",
       "      <th>50%</th>\n",
       "      <td>54.000000</td>\n",
       "      <td>130.000000</td>\n",
       "      <td>223.000000</td>\n",
       "      <td>0.000000</td>\n",
       "      <td>138.000000</td>\n",
       "      <td>0.600000</td>\n",
       "      <td>1.000000</td>\n",
       "    </tr>\n",
       "    <tr>\n",
       "      <th>75%</th>\n",
       "      <td>60.000000</td>\n",
       "      <td>140.000000</td>\n",
       "      <td>267.000000</td>\n",
       "      <td>0.000000</td>\n",
       "      <td>156.000000</td>\n",
       "      <td>1.500000</td>\n",
       "      <td>1.000000</td>\n",
       "    </tr>\n",
       "    <tr>\n",
       "      <th>max</th>\n",
       "      <td>77.000000</td>\n",
       "      <td>200.000000</td>\n",
       "      <td>603.000000</td>\n",
       "      <td>1.000000</td>\n",
       "      <td>202.000000</td>\n",
       "      <td>6.200000</td>\n",
       "      <td>1.000000</td>\n",
       "    </tr>\n",
       "  </tbody>\n",
       "</table>\n",
       "</div>"
      ],
      "text/plain": [
       "              Age   RestingBP  Cholesterol   FastingBS       MaxHR  \\\n",
       "count  918.000000  918.000000   918.000000  918.000000  918.000000   \n",
       "mean    53.510893  132.396514   198.799564    0.233115  136.809368   \n",
       "std      9.432617   18.514154   109.384145    0.423046   25.460334   \n",
       "min     28.000000    0.000000     0.000000    0.000000   60.000000   \n",
       "25%     47.000000  120.000000   173.250000    0.000000  120.000000   \n",
       "50%     54.000000  130.000000   223.000000    0.000000  138.000000   \n",
       "75%     60.000000  140.000000   267.000000    0.000000  156.000000   \n",
       "max     77.000000  200.000000   603.000000    1.000000  202.000000   \n",
       "\n",
       "          Oldpeak  HeartDisease  \n",
       "count  918.000000    918.000000  \n",
       "mean     0.887364      0.553377  \n",
       "std      1.066570      0.497414  \n",
       "min     -2.600000      0.000000  \n",
       "25%      0.000000      0.000000  \n",
       "50%      0.600000      1.000000  \n",
       "75%      1.500000      1.000000  \n",
       "max      6.200000      1.000000  "
      ]
     },
     "execution_count": 3,
     "metadata": {},
     "output_type": "execute_result"
    }
   ],
   "source": [
    "dataset.describe()"
   ]
  },
  {
   "cell_type": "code",
   "execution_count": 4,
   "id": "8ed7a43a",
   "metadata": {},
   "outputs": [
    {
     "name": "stdout",
     "output_type": "stream",
     "text": [
      "<class 'pandas.core.frame.DataFrame'>\n",
      "RangeIndex: 918 entries, 0 to 917\n",
      "Data columns (total 12 columns):\n",
      " #   Column          Non-Null Count  Dtype  \n",
      "---  ------          --------------  -----  \n",
      " 0   Age             918 non-null    int64  \n",
      " 1   Sex             918 non-null    object \n",
      " 2   ChestPainType   918 non-null    object \n",
      " 3   RestingBP       918 non-null    int64  \n",
      " 4   Cholesterol     918 non-null    int64  \n",
      " 5   FastingBS       918 non-null    int64  \n",
      " 6   RestingECG      918 non-null    object \n",
      " 7   MaxHR           918 non-null    int64  \n",
      " 8   ExerciseAngina  918 non-null    object \n",
      " 9   Oldpeak         918 non-null    float64\n",
      " 10  ST_Slope        918 non-null    object \n",
      " 11  HeartDisease    918 non-null    int64  \n",
      "dtypes: float64(1), int64(6), object(5)\n",
      "memory usage: 86.2+ KB\n"
     ]
    }
   ],
   "source": [
    "dataset.info()"
   ]
  },
  {
   "cell_type": "code",
   "execution_count": 29,
   "id": "80591f3e",
   "metadata": {},
   "outputs": [
    {
     "data": {
      "image/png": "[encoded data removed]",
      "text/plain": [
       "<Figure size 432x288 with 1 Axes>"
      ]
     },
     "metadata": {
      "needs_background": "light"
     },
     "output_type": "display_data"
    },
    {
     "data": {
      "image/png": "[encoded data removed]",
      "text/plain": [
       "<Figure size 432x288 with 1 Axes>"
      ]
     },
     "metadata": {
      "needs_background": "light"
     },
     "output_type": "display_data"
    },
    {
     "data": {
      "image/png": "[encoded data removed]",
      "text/plain": [
       "<Figure size 432x288 with 1 Axes>"
      ]
     },
     "metadata": {
      "needs_background": "light"
     },
     "output_type": "display_data"
    },
    {
     "data": {
      "image/png": "[encoded data removed]",
      "text/plain": [
       "<Figure size 432x288 with 1 Axes>"
      ]
     },
     "metadata": {
      "needs_background": "light"
     },
     "output_type": "display_data"
    },
    {
     "data": {
      "image/png": "[encoded data removed]",
      "text/plain": [
       "<Figure size 432x288 with 1 Axes>"
      ]
     },
     "metadata": {
      "needs_background": "light"
     },
     "output_type": "display_data"
    },
    {
     "data": {
      "image/png": "[encoded data removed]",
      "text/plain": [
       "<Figure size 432x288 with 1 Axes>"
      ]
     },
     "metadata": {
      "needs_background": "light"
     },
     "output_type": "display_data"
    },
    {
     "data": {
      "image/png": "[encoded data removed]",
      "text/plain": [
       "<Figure size 432x288 with 1 Axes>"
      ]
     },
     "metadata": {
      "needs_background": "light"
     },
     "output_type": "display_data"
    },
    {
     "data": {
      "image/png": "[encoded data removed]",
      "text/plain": [
       "<Figure size 432x288 with 1 Axes>"
      ]
     },
     "metadata": {
      "needs_background": "light"
     },
     "output_type": "display_data"
    },
    {
     "data": {
      "image/png": "[encoded data removed]",
      "text/plain": [
       "<Figure size 432x288 with 1 Axes>"
      ]
     },
     "metadata": {
      "needs_background": "light"
     },
     "output_type": "display_data"
    },
    {
     "data": {
      "image/png": "[encoded data removed]",
      "text/plain": [
       "<Figure size 432x288 with 1 Axes>"
      ]
     },
     "metadata": {
      "needs_background": "light"
     },
     "output_type": "display_data"
    },
    {
     "data": {
      "image/png": "[encoded data removed]",
      "text/plain": [
       "<Figure size 432x288 with 1 Axes>"
      ]
     },
     "metadata": {
      "needs_background": "light"
     },
     "output_type": "display_data"
    },
    {
     "data": {
      "image/png": "[encoded data removed]",
      "text/plain": [
       "<Figure size 432x288 with 1 Axes>"
      ]
     },
     "metadata": {
      "needs_background": "light"
     },
     "output_type": "display_data"
    }
   ],
   "source": [
    "\"\"\"\n",
    "plot the histograms of all features\n",
    "\"\"\"\n",
    "for keys in dataset.columns.values.tolist():\n",
    "    plt.figure()\n",
    "    plt.ylabel(keys)\n",
    "    dataset[keys].hist()\n",
    "   "
   ]
  },
  {
   "cell_type": "code",
   "execution_count": 44,
   "id": "b1333238",
   "metadata": {},
   "outputs": [
    {
     "data": {
      "image/png": "[encoded data removed]",
      "text/plain": [
       "<Figure size 432x288 with 2 Axes>"
      ]
     },
     "metadata": {
      "needs_background": "light"
     },
     "output_type": "display_data"
    }
   ],
   "source": [
    "\"\"\"\n",
    "plot the correlation matrix\n",
    "\"\"\"\n",
    "corr = dataset.corr(method = 'pearson')# std covariance\n",
    "ax = sns.heatmap(corr,annot=True)\n",
    "plt.title('Correlation Matrix')\n",
    "label_x = ax.get_xticklabels()\n",
    "plt.setp(label_x, rotation=45, horizontalalignment='right')\n",
    "plt.show()"
   ]
  },
  {
   "cell_type": "code",
   "execution_count": 66,
   "id": "cf6f153b",
   "metadata": {},
   "outputs": [
    {
     "data": {
      "text/plain": [
       "([<matplotlib.patches.Wedge at 0x7fe38114f2e0>,\n",
       "  <matplotlib.patches.Wedge at 0x7fe38114f820>,\n",
       "  <matplotlib.patches.Wedge at 0x7fe38114fd00>],\n",
       " [Text(-1.5556349186104046, 1.5556349186104048, 'Flat'),\n",
       "  Text(1.0205371524351101, -1.9489750948895264, 'Up'),\n",
       "  Text(2.0997622468997545, -0.6565047650204031, 'Down')],\n",
       " [Text(-0.8485281374238569, 0.848528137423857, '75.00%'),\n",
       "  Text(0.5566566286009691, -1.063077324485196, '15.35%'),\n",
       "  Text(1.1453248619453207, -0.3580935081929471, '9.65%')])"
      ]
     },
     "execution_count": 66,
     "metadata": {},
     "output_type": "execute_result"
    },
    {
     "data": {
      "image/png": "[encoded data removed]",
      "text/plain": [
       "<Figure size 432x288 with 1 Axes>"
      ]
     },
     "metadata": {},
     "output_type": "display_data"
    }
   ],
   "source": [
    "import matplotlib\n",
    "\"\"\"\n",
    "distribution of each factor for heart failure\n",
    "\"\"\"\n",
    "heart_failure = dataset[dataset.HeartDisease == 1]\n",
    "pie = heart_failure.ST_Slope.value_counts(normalize=True)\n",
    "matplotlib.pyplot.pie(pie,labels=['Flat','Up',\"Down\"],autopct = '%0.2f%%',radius = 2)\n"
   ]
  },
  {
   "cell_type": "code",
   "execution_count": 50,
   "id": "bad5144c",
   "metadata": {},
   "outputs": [],
   "source": [
    "\n",
    "\n",
    "\n",
    "\"\"\"\n",
    "group by sex: male, female\n",
    "\"\"\"\n",
    "male_data = dataset[dataset.Sex == 'M']\n",
    "female_data = dataset[dataset.Sex == 'F']"
   ]
  },
  {
   "cell_type": "code",
   "execution_count": 51,
   "id": "e97cc762",
   "metadata": {},
   "outputs": [
    {
     "name": "stdout",
     "output_type": "stream",
     "text": [
      "<class 'pandas.core.frame.DataFrame'>\n",
      "Int64Index: 725 entries, 0 to 917\n",
      "Data columns (total 12 columns):\n",
      " #   Column          Non-Null Count  Dtype  \n",
      "---  ------          --------------  -----  \n",
      " 0   Age             725 non-null    int64  \n",
      " 1   Sex             725 non-null    object \n",
      " 2   ChestPainType   725 non-null    object \n",
      " 3   RestingBP       725 non-null    int64  \n",
      " 4   Cholesterol     725 non-null    int64  \n",
      " 5   FastingBS       725 non-null    int64  \n",
      " 6   RestingECG      725 non-null    object \n",
      " 7   MaxHR           725 non-null    int64  \n",
      " 8   ExerciseAngina  725 non-null    object \n",
      " 9   Oldpeak         725 non-null    float64\n",
      " 10  ST_Slope        725 non-null    object \n",
      " 11  HeartDisease    725 non-null    int64  \n",
      "dtypes: float64(1), int64(6), object(5)\n",
      "memory usage: 73.6+ KB\n",
      "<class 'pandas.core.frame.DataFrame'>\n",
      "Int64Index: 193 entries, 1 to 916\n",
      "Data columns (total 12 columns):\n",
      " #   Column          Non-Null Count  Dtype  \n",
      "---  ------          --------------  -----  \n",
      " 0   Age             193 non-null    int64  \n",
      " 1   Sex             193 non-null    object \n",
      " 2   ChestPainType   193 non-null    object \n",
      " 3   RestingBP       193 non-null    int64  \n",
      " 4   Cholesterol     193 non-null    int64  \n",
      " 5   FastingBS       193 non-null    int64  \n",
      " 6   RestingECG      193 non-null    object \n",
      " 7   MaxHR           193 non-null    int64  \n",
      " 8   ExerciseAngina  193 non-null    object \n",
      " 9   Oldpeak         193 non-null    float64\n",
      " 10  ST_Slope        193 non-null    object \n",
      " 11  HeartDisease    193 non-null    int64  \n",
      "dtypes: float64(1), int64(6), object(5)\n",
      "memory usage: 19.6+ KB\n"
     ]
    }
   ],
   "source": [
    "male_data.info()\n",
    "female_data.info()"
   ]
  },
  {
   "cell_type": "code",
   "execution_count": 53,
   "id": "a59ca7b9",
   "metadata": {},
   "outputs": [
    {
     "data": {
      "text/html": [
       "<div>\n",
       "<style scoped>\n",
       "    .dataframe tbody tr th:only-of-type {\n",
       "        vertical-align: middle;\n",
       "    }\n",
       "\n",
       "    .dataframe tbody tr th {\n",
       "        vertical-align: top;\n",
       "    }\n",
       "\n",
       "    .dataframe thead th {\n",
       "        text-align: right;\n",
       "    }\n",
       "</style>\n",
       "<table border=\"1\" class=\"dataframe\">\n",
       "  <thead>\n",
       "    <tr style=\"text-align: right;\">\n",
       "      <th></th>\n",
       "      <th>Age</th>\n",
       "      <th>RestingBP</th>\n",
       "      <th>Cholesterol</th>\n",
       "      <th>FastingBS</th>\n",
       "      <th>MaxHR</th>\n",
       "      <th>Oldpeak</th>\n",
       "      <th>HeartDisease</th>\n",
       "    </tr>\n",
       "  </thead>\n",
       "  <tbody>\n",
       "    <tr>\n",
       "      <th>count</th>\n",
       "      <td>725.000000</td>\n",
       "      <td>725.000000</td>\n",
       "      <td>725.000000</td>\n",
       "      <td>725.000000</td>\n",
       "      <td>725.000000</td>\n",
       "      <td>725.000000</td>\n",
       "      <td>725.000000</td>\n",
       "    </tr>\n",
       "    <tr>\n",
       "      <th>mean</th>\n",
       "      <td>53.782069</td>\n",
       "      <td>132.445517</td>\n",
       "      <td>187.513103</td>\n",
       "      <td>0.259310</td>\n",
       "      <td>134.325517</td>\n",
       "      <td>0.945517</td>\n",
       "      <td>0.631724</td>\n",
       "    </tr>\n",
       "    <tr>\n",
       "      <th>std</th>\n",
       "      <td>9.397864</td>\n",
       "      <td>18.286739</td>\n",
       "      <td>112.351444</td>\n",
       "      <td>0.438559</td>\n",
       "      <td>25.719191</td>\n",
       "      <td>1.087154</td>\n",
       "      <td>0.482670</td>\n",
       "    </tr>\n",
       "    <tr>\n",
       "      <th>min</th>\n",
       "      <td>28.000000</td>\n",
       "      <td>0.000000</td>\n",
       "      <td>0.000000</td>\n",
       "      <td>0.000000</td>\n",
       "      <td>60.000000</td>\n",
       "      <td>-2.600000</td>\n",
       "      <td>0.000000</td>\n",
       "    </tr>\n",
       "    <tr>\n",
       "      <th>25%</th>\n",
       "      <td>47.000000</td>\n",
       "      <td>120.000000</td>\n",
       "      <td>156.000000</td>\n",
       "      <td>0.000000</td>\n",
       "      <td>117.000000</td>\n",
       "      <td>0.000000</td>\n",
       "      <td>0.000000</td>\n",
       "    </tr>\n",
       "    <tr>\n",
       "      <th>50%</th>\n",
       "      <td>55.000000</td>\n",
       "      <td>130.000000</td>\n",
       "      <td>219.000000</td>\n",
       "      <td>0.000000</td>\n",
       "      <td>134.000000</td>\n",
       "      <td>0.800000</td>\n",
       "      <td>1.000000</td>\n",
       "    </tr>\n",
       "    <tr>\n",
       "      <th>75%</th>\n",
       "      <td>60.000000</td>\n",
       "      <td>140.000000</td>\n",
       "      <td>261.000000</td>\n",
       "      <td>1.000000</td>\n",
       "      <td>152.000000</td>\n",
       "      <td>1.700000</td>\n",
       "      <td>1.000000</td>\n",
       "    </tr>\n",
       "    <tr>\n",
       "      <th>max</th>\n",
       "      <td>77.000000</td>\n",
       "      <td>200.000000</td>\n",
       "      <td>603.000000</td>\n",
       "      <td>1.000000</td>\n",
       "      <td>202.000000</td>\n",
       "      <td>5.600000</td>\n",
       "      <td>1.000000</td>\n",
       "    </tr>\n",
       "  </tbody>\n",
       "</table>\n",
       "</div>"
      ],
      "text/plain": [
       "              Age   RestingBP  Cholesterol   FastingBS       MaxHR  \\\n",
       "count  725.000000  725.000000   725.000000  725.000000  725.000000   \n",
       "mean    53.782069  132.445517   187.513103    0.259310  134.325517   \n",
       "std      9.397864   18.286739   112.351444    0.438559   25.719191   \n",
       "min     28.000000    0.000000     0.000000    0.000000   60.000000   \n",
       "25%     47.000000  120.000000   156.000000    0.000000  117.000000   \n",
       "50%     55.000000  130.000000   219.000000    0.000000  134.000000   \n",
       "75%     60.000000  140.000000   261.000000    1.000000  152.000000   \n",
       "max     77.000000  200.000000   603.000000    1.000000  202.000000   \n",
       "\n",
       "          Oldpeak  HeartDisease  \n",
       "count  725.000000    725.000000  \n",
       "mean     0.945517      0.631724  \n",
       "std      1.087154      0.482670  \n",
       "min     -2.600000      0.000000  \n",
       "25%      0.000000      0.000000  \n",
       "50%      0.800000      1.000000  \n",
       "75%      1.700000      1.000000  \n",
       "max      5.600000      1.000000  "
      ]
     },
     "execution_count": 53,
     "metadata": {},
     "output_type": "execute_result"
    }
   ],
   "source": [
    "male_data.describe()"
   ]
  },
  {
   "cell_type": "code",
   "execution_count": 54,
   "id": "ed2c5b54",
   "metadata": {},
   "outputs": [
    {
     "data": {
      "text/html": [
       "<div>\n",
       "<style scoped>\n",
       "    .dataframe tbody tr th:only-of-type {\n",
       "        vertical-align: middle;\n",
       "    }\n",
       "\n",
       "    .dataframe tbody tr th {\n",
       "        vertical-align: top;\n",
       "    }\n",
       "\n",
       "    .dataframe thead th {\n",
       "        text-align: right;\n",
       "    }\n",
       "</style>\n",
       "<table border=\"1\" class=\"dataframe\">\n",
       "  <thead>\n",
       "    <tr style=\"text-align: right;\">\n",
       "      <th></th>\n",
       "      <th>Age</th>\n",
       "      <th>RestingBP</th>\n",
       "      <th>Cholesterol</th>\n",
       "      <th>FastingBS</th>\n",
       "      <th>MaxHR</th>\n",
       "      <th>Oldpeak</th>\n",
       "      <th>HeartDisease</th>\n",
       "    </tr>\n",
       "  </thead>\n",
       "  <tbody>\n",
       "    <tr>\n",
       "      <th>count</th>\n",
       "      <td>193.000000</td>\n",
       "      <td>193.000000</td>\n",
       "      <td>193.000000</td>\n",
       "      <td>193.000000</td>\n",
       "      <td>193.000000</td>\n",
       "      <td>193.000000</td>\n",
       "      <td>193.000000</td>\n",
       "    </tr>\n",
       "    <tr>\n",
       "      <th>mean</th>\n",
       "      <td>52.492228</td>\n",
       "      <td>132.212435</td>\n",
       "      <td>241.196891</td>\n",
       "      <td>0.134715</td>\n",
       "      <td>146.139896</td>\n",
       "      <td>0.668912</td>\n",
       "      <td>0.259067</td>\n",
       "    </tr>\n",
       "    <tr>\n",
       "      <th>std</th>\n",
       "      <td>9.517593</td>\n",
       "      <td>19.392638</td>\n",
       "      <td>85.195441</td>\n",
       "      <td>0.342307</td>\n",
       "      <td>22.154902</td>\n",
       "      <td>0.956865</td>\n",
       "      <td>0.439262</td>\n",
       "    </tr>\n",
       "    <tr>\n",
       "      <th>min</th>\n",
       "      <td>30.000000</td>\n",
       "      <td>94.000000</td>\n",
       "      <td>0.000000</td>\n",
       "      <td>0.000000</td>\n",
       "      <td>90.000000</td>\n",
       "      <td>0.000000</td>\n",
       "      <td>0.000000</td>\n",
       "    </tr>\n",
       "    <tr>\n",
       "      <th>25%</th>\n",
       "      <td>46.000000</td>\n",
       "      <td>120.000000</td>\n",
       "      <td>204.000000</td>\n",
       "      <td>0.000000</td>\n",
       "      <td>130.000000</td>\n",
       "      <td>0.000000</td>\n",
       "      <td>0.000000</td>\n",
       "    </tr>\n",
       "    <tr>\n",
       "      <th>50%</th>\n",
       "      <td>53.000000</td>\n",
       "      <td>130.000000</td>\n",
       "      <td>243.000000</td>\n",
       "      <td>0.000000</td>\n",
       "      <td>150.000000</td>\n",
       "      <td>0.000000</td>\n",
       "      <td>0.000000</td>\n",
       "    </tr>\n",
       "    <tr>\n",
       "      <th>75%</th>\n",
       "      <td>60.000000</td>\n",
       "      <td>140.000000</td>\n",
       "      <td>288.000000</td>\n",
       "      <td>0.000000</td>\n",
       "      <td>163.000000</td>\n",
       "      <td>1.100000</td>\n",
       "      <td>1.000000</td>\n",
       "    </tr>\n",
       "    <tr>\n",
       "      <th>max</th>\n",
       "      <td>76.000000</td>\n",
       "      <td>200.000000</td>\n",
       "      <td>564.000000</td>\n",
       "      <td>1.000000</td>\n",
       "      <td>192.000000</td>\n",
       "      <td>6.200000</td>\n",
       "      <td>1.000000</td>\n",
       "    </tr>\n",
       "  </tbody>\n",
       "</table>\n",
       "</div>"
      ],
      "text/plain": [
       "              Age   RestingBP  Cholesterol   FastingBS       MaxHR  \\\n",
       "count  193.000000  193.000000   193.000000  193.000000  193.000000   \n",
       "mean    52.492228  132.212435   241.196891    0.134715  146.139896   \n",
       "std      9.517593   19.392638    85.195441    0.342307   22.154902   \n",
       "min     30.000000   94.000000     0.000000    0.000000   90.000000   \n",
       "25%     46.000000  120.000000   204.000000    0.000000  130.000000   \n",
       "50%     53.000000  130.000000   243.000000    0.000000  150.000000   \n",
       "75%     60.000000  140.000000   288.000000    0.000000  163.000000   \n",
       "max     76.000000  200.000000   564.000000    1.000000  192.000000   \n",
       "\n",
       "          Oldpeak  HeartDisease  \n",
       "count  193.000000    193.000000  \n",
       "mean     0.668912      0.259067  \n",
       "std      0.956865      0.439262  \n",
       "min      0.000000      0.000000  \n",
       "25%      0.000000      0.000000  \n",
       "50%      0.000000      0.000000  \n",
       "75%      1.100000      1.000000  \n",
       "max      6.200000      1.000000  "
      ]
     },
     "execution_count": 54,
     "metadata": {},
     "output_type": "execute_result"
    }
   ],
   "source": [
    "female_data.describe()"
   ]
  },
  {
   "cell_type": "code",
   "execution_count": null,
   "id": "29d890db",
   "metadata": {},
   "outputs": [],
   "source": []
  }
 ],
 "metadata": {
  "kernelspec": {
   "display_name": "Python 3",
   "language": "python",
   "name": "python3"
  },
  "language_info": {
   "codemirror_mode": {
    "name": "ipython",
    "version": 3
   },
   "file_extension": ".py",
   "mimetype": "text/x-python",
   "name": "python",
   "nbconvert_exporter": "python",
   "pygments_lexer": "ipython3",
   "version": "3.8.8"
  }
 },
 "nbformat": 4,
 "nbformat_minor": 5
}
